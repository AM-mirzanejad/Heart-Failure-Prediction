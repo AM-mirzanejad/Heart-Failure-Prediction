{
 "cells": [
  {
   "cell_type": "code",
   "id": "initial_id",
   "metadata": {
    "collapsed": true
   },
   "source": [
    "import pandas as pd\n",
    "import numpy as np\n",
    "from sklearn.impute import KNNImputer\n",
    "from sklearn.preprocessing import MinMaxScaler\n",
    "from sklearn.model_selection import train_test_split\n",
    "from sklearn.svm import SVC\n",
    "from sklearn.metrics import accuracy_score, classification_report\n",
    "from sklearn.model_selection import GridSearchCV\n",
    "from sklearn.ensemble import RandomForestClassifier\n",
    "import xgboost as xgb"
   ],
   "outputs": [],
   "execution_count": null
  },
  {
   "metadata": {},
   "cell_type": "code",
   "source": [
    "path = r'dataset/heart.csv'\n",
    "data = pd.read_csv(path)"
   ],
   "id": "992650efa3db179c",
   "outputs": [],
   "execution_count": null
  },
  {
   "metadata": {},
   "cell_type": "code",
   "source": "data",
   "id": "3f3230e703efdb6f",
   "outputs": [],
   "execution_count": null
  },
  {
   "metadata": {},
   "cell_type": "code",
   "source": "(data == 0).sum()",
   "id": "d9d548e037154a55",
   "outputs": [],
   "execution_count": null
  },
  {
   "metadata": {},
   "cell_type": "code",
   "source": "data['Cholesterol'] = data['Cholesterol'].replace(0, np.nan)",
   "id": "e46d09b821fc862e",
   "outputs": [],
   "execution_count": null
  },
  {
   "metadata": {},
   "cell_type": "code",
   "source": [
    "to_KNN = KNNImputer(n_neighbors=5)\n",
    "data['Cholesterol'] = to_KNN.fit_transform(data[['Cholesterol']])"
   ],
   "id": "1a021546d29f6784",
   "outputs": [],
   "execution_count": null
  },
  {
   "metadata": {},
   "cell_type": "code",
   "source": "data",
   "id": "db70327a731cf78a",
   "outputs": [],
   "execution_count": null
  },
  {
   "metadata": {},
   "cell_type": "code",
   "source": "(data == 0).sum()",
   "id": "930bd42c2ac29bf2",
   "outputs": [],
   "execution_count": null
  },
  {
   "metadata": {},
   "cell_type": "code",
   "source": [
    "to_OHE = ['Sex', 'ChestPainType', 'RestingECG', 'ExerciseAngina', 'ExerciseAngina', 'ST_Slope', ]\n",
    "data_encoded = pd.concat([data.drop(columns=to_OHE), pd.get_dummies(data[to_OHE])], axis=1)"
   ],
   "id": "f854e3f55ff74b0e",
   "outputs": [],
   "execution_count": null
  },
  {
   "metadata": {},
   "cell_type": "code",
   "source": "data_encoded",
   "id": "2fa77eafffecb720",
   "outputs": [],
   "execution_count": null
  },
  {
   "metadata": {},
   "cell_type": "code",
   "source": "data_encoded.info()",
   "id": "ddb84ab7cc4e2305",
   "outputs": [],
   "execution_count": null
  },
  {
   "metadata": {},
   "cell_type": "code",
   "source": [
    "columns_name = data_encoded.columns.to_list()\n",
    "to_MMS = MinMaxScaler()\n",
    "data_encoded[columns_name] = to_MMS.fit_transform(data_encoded[columns_name])"
   ],
   "id": "ac271b8613027622",
   "outputs": [],
   "execution_count": null
  },
  {
   "metadata": {},
   "cell_type": "code",
   "source": "data_encoded",
   "id": "32575fef8b85b100",
   "outputs": [],
   "execution_count": null
  },
  {
   "metadata": {},
   "cell_type": "code",
   "source": [
    "file_path = r'dataset/processed_data-heart.csv'\n",
    "data_encoded.to_csv(file_path, index=False)\n",
    "\n",
    "print(f\"داده‌های پردازش شده با موفقیت ذخیره شدند در: {file_path}\")"
   ],
   "id": "8d2d5fa15a8e4372",
   "outputs": [],
   "execution_count": null
  },
  {
   "metadata": {},
   "cell_type": "code",
   "source": [
    "x = data_encoded.drop('HeartDisease', axis=1)\n",
    "y = data_encoded['HeartDisease']\n",
    "x_train, x_test, y_train, y_test = train_test_split(x, y, test_size=0.2, random_state=0)"
   ],
   "id": "8accc076dc3a82ba",
   "outputs": [],
   "execution_count": null
  },
  {
   "metadata": {},
   "cell_type": "code",
   "source": [
    "Model_svc = SVC(kernel='linear', C=1.0, gamma=0.1)\n",
    "Model_svc.fit(x_train, y_train)"
   ],
   "id": "c40a3abce36ca959",
   "outputs": [],
   "execution_count": null
  },
  {
   "metadata": {},
   "cell_type": "code",
   "source": [
    "y_pred = Model_svc.predict(x_test)\n",
    "print(classification_report(y_test, y_pred))"
   ],
   "id": "f11a5465da76c2e3",
   "outputs": [],
   "execution_count": null
  },
  {
   "metadata": {},
   "cell_type": "code",
   "source": [
    "param_grid = {\n",
    "    'C': [0.001, 0.01, 0.1, 1, 10, 100, 1000, 10000],\n",
    "    'gamma': [0.0001, 0.001, 0.01, 0.1, 2, 10, 100, 1000, 10000],\n",
    "    'kernel': ['linear']\n",
    "}\n",
    "\n",
    "model_svc = SVC()\n",
    "\n",
    "grid_search = GridSearchCV(estimator=model_svc, param_grid=param_grid, scoring='f1_macro', cv=10, n_jobs=-1)\n",
    "\n",
    "grid_search.fit(x_train, y_train)\n",
    "\n",
    "print(\"بهترین مقادیر پارامترها:\", grid_search.best_params_)\n",
    "\n",
    "best_model = grid_search.best_estimator_\n",
    "y_pred = best_model.predict(x_test)\n",
    "\n",
    "print(\"دقت مدل با بهترین پارامترها:\")\n",
    "print(accuracy_score(y_test, y_pred))\n",
    "\n",
    "print(\"گزارش بازخوانی:\")\n",
    "print(classification_report(y_test, y_pred))\n"
   ],
   "id": "7a56827583bb9736",
   "outputs": [],
   "execution_count": null
  },
  {
   "metadata": {},
   "cell_type": "code",
   "source": [
    "rf_classifier = RandomForestClassifier()\n",
    "rf_classifier.fit(x_train, y_train)\n",
    "\n",
    "y_pred = rf_classifier.predict(x_test)\n",
    "\n",
    "print(\"دقت مدل:\")\n",
    "print(accuracy_score(y_test, y_pred))\n",
    "print(\"گزارش دقت:\")\n",
    "print(classification_report(y_test, y_pred))"
   ],
   "id": "9bbe42eefa779457",
   "outputs": [],
   "execution_count": null
  },
  {
   "metadata": {},
   "cell_type": "code",
   "source": [
    "\n",
    "rf_classifier = RandomForestClassifier(random_state=42)\n",
    "\n",
    "param_grid = {\n",
    "    'n_estimators': [50, 100, 200,300,500],\n",
    "    'max_depth': [None, 10, 20, 30,50,80,100],\n",
    "    'min_samples_split': [2, 5, 10,20,30],\n",
    "    'min_samples_leaf': [1, 2, 4,6,8,10,20],\n",
    "}\n",
    "\n",
    "grid_search = GridSearchCV(estimator=rf_classifier, param_grid=param_grid, scoring='f1_macro', cv=10, n_jobs=-1)\n",
    "\n",
    "grid_search.fit(x_train, y_train)\n",
    "\n",
    "print(\"بهترین مقادیر پارامترها:\", grid_search.best_params_)\n",
    "\n",
    "best_rf_classifier = grid_search.best_estimator_\n",
    "y_pred = best_rf_classifier.predict(x_test)\n",
    "\n",
    "print(\"دقت مدل با بهترین پارامترها:\")\n",
    "print(accuracy_score(y_test, y_pred))\n",
    "\n",
    "print(\"گزارش دقت مدل با بهترین پارامترها:\")\n",
    "print(classification_report(y_test, y_pred))\n"
   ],
   "id": "2bb05b6f63cf16e6",
   "outputs": [],
   "execution_count": null
  }
 ],
 "metadata": {
  "kernelspec": {
   "display_name": "Python 3",
   "language": "python",
   "name": "python3"
  },
  "language_info": {
   "codemirror_mode": {
    "name": "ipython",
    "version": 2
   },
   "file_extension": ".py",
   "mimetype": "text/x-python",
   "name": "python",
   "nbconvert_exporter": "python",
   "pygments_lexer": "ipython2",
   "version": "2.7.6"
  }
 },
 "nbformat": 4,
 "nbformat_minor": 5
}
